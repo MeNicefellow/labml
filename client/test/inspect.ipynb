{
 "cells": [
  {
   "cell_type": "code",
   "execution_count": 1,
   "metadata": {
    "pycharm": {
     "name": "#%%\n"
    }
   },
   "outputs": [],
   "source": [
    "from labml.logger import inspect\n",
    "import numpy as np\n",
    "import torch"
   ]
  },
  {
   "cell_type": "code",
   "execution_count": 2,
   "metadata": {
    "pycharm": {
     "name": "#%%\n"
    }
   },
   "outputs": [
    {
     "data": {
      "text/html": [
       "<pre ><strong></strong><span style=\"color: #C5C1B4\">[</span><strong>1</strong><strong>, </strong><strong>2</strong><strong>, </strong><strong>3</strong><strong></strong><span style=\"color: #C5C1B4\">]</span></pre>"
      ],
      "text/plain": [
       "<IPython.core.display.HTML object>"
      ]
     },
     "metadata": {},
     "output_type": "display_data"
    }
   ],
   "source": [
    "inspect(np.array([1, 2, 3]))"
   ]
  },
  {
   "cell_type": "code",
   "execution_count": 3,
   "metadata": {
    "pycharm": {
     "name": "#%%\n"
    }
   },
   "outputs": [
    {
     "data": {
      "text/html": [
       "<pre ><strong></strong><span style=\"color: #C5C1B4\">[</span><strong></strong>\n",
       "<strong></strong><strong> </strong><span style=\"color: #C5C1B4\">[</span><strong>1</strong><strong>, </strong><strong>2</strong><strong>, </strong><strong>3</strong><strong> </strong><span style=\"color: #C5C1B4\">]</span><strong>, </strong><strong></strong>\n",
       "<strong></strong><strong> </strong><span style=\"color: #C5C1B4\">[</span><strong>1</strong><strong>, </strong><strong>2</strong><strong>, </strong><strong>3</strong><strong> </strong><span style=\"color: #C5C1B4\">]</span><strong></strong>\n",
       "<strong></strong><strong></strong><span style=\"color: #C5C1B4\">]</span></pre>"
      ],
      "text/plain": [
       "<IPython.core.display.HTML object>"
      ]
     },
     "metadata": {},
     "output_type": "display_data"
    }
   ],
   "source": [
    "inspect(torch.tensor([[1, 2, 3], [1, 2, 3]]))"
   ]
  },
  {
   "cell_type": "code",
   "execution_count": 4,
   "metadata": {
    "pycharm": {
     "name": "#%%\n"
    }
   },
   "outputs": [
    {
     "data": {
      "text/html": [
       "<pre ><span style=\"color: #C5C1B4\">dtype: </span><span style=\"color: #208FFB\">int64</span>\n",
       "<span style=\"color: #C5C1B4\">shape: </span><strong>[100]</strong>\n",
       "<span style=\"color: #C5C1B4\">min: </span><span style=\"color: #208FFB\">0</span> <span style=\"color: #C5C1B4\">max: </span><span style=\"color: #208FFB\">99</span> <span style=\"color: #C5C1B4\">mean: </span><span style=\"color: #208FFB\"> 49.5000</span> <span style=\"color: #C5C1B4\">std: </span><span style=\"color: #208FFB\"> 28.8661</span>\n",
       "<strong></strong><span style=\"color: #C5C1B4\">[</span><strong>0</strong><strong>, </strong><strong>1</strong><strong>, </strong><strong>2</strong><strong>, </strong><span style=\"color: #C5C1B4\">...</span><strong>, </strong><strong>99</strong><strong></strong><span style=\"color: #C5C1B4\">]</span></pre>"
      ],
      "text/plain": [
       "<IPython.core.display.HTML object>"
      ]
     },
     "metadata": {},
     "output_type": "display_data"
    }
   ],
   "source": [
    "inspect(np.arange(100))"
   ]
  },
  {
   "cell_type": "code",
   "execution_count": 9,
   "metadata": {
    "pycharm": {
     "name": "#%%\n"
    }
   },
   "outputs": [
    {
     "data": {
      "text/html": [
       "<pre ><strong></strong><span style=\"color: #C5C1B4\">[</span><strong></strong>\n",
       "<strong></strong><strong> </strong><span style=\"color: #C5C1B4\">[</span><strong></strong>\n",
       "<strong></strong><strong>  </strong><span style=\"color: #C5C1B4\">[</span><strong></strong><strong></strong><span style=\"color: #C5C1B4\">[</span><strong></strong><strong></strong><span style=\"color: #C5C1B4\">[</span><strong></strong><strong></strong><span style=\"color: #C5C1B4\">[</span><strong></strong><strong></strong><span style=\"color: #C5C1B4\">[</span><strong>1</strong><strong>, </strong><strong>2</strong><strong></strong><span style=\"color: #C5C1B4\">]</span><strong>, </strong><strong></strong><strong></strong><span style=\"color: #C5C1B4\">[</span><strong>1</strong><strong>, </strong><strong>2</strong><strong></strong><span style=\"color: #C5C1B4\">]</span><strong></strong><strong></strong><span style=\"color: #C5C1B4\">]</span><strong>, </strong><strong></strong><strong></strong><span style=\"color: #C5C1B4\">[</span><strong></strong><strong></strong><span style=\"color: #C5C1B4\">[</span><strong>1</strong><strong>, </strong><strong>2</strong><strong></strong><span style=\"color: #C5C1B4\">]</span><strong>, </strong><strong></strong><strong></strong><span style=\"color: #C5C1B4\">[</span><strong>1</strong><strong>, </strong><strong>2</strong><strong></strong><span style=\"color: #C5C1B4\">]</span><strong></strong><strong></strong><span style=\"color: #C5C1B4\">]</span><strong></strong><strong></strong><span style=\"color: #C5C1B4\">]</span><strong>, </strong><strong></strong><strong></strong><span style=\"color: #C5C1B4\">[</span><strong></strong><strong></strong><span style=\"color: #C5C1B4\">[</span><strong></strong><strong></strong><span style=\"color: #C5C1B4\">[</span><strong>1</strong><strong>, </strong><strong>2</strong><strong></strong><span style=\"color: #C5C1B4\">]</span><strong>, </strong><strong></strong><strong></strong><span style=\"color: #C5C1B4\">[</span><strong>1</strong><strong>, </strong><strong>2</strong><strong></strong><span style=\"color: #C5C1B4\">]</span><strong></strong><strong></strong><span style=\"color: #C5C1B4\">]</span><strong>, </strong><strong></strong><strong></strong><span style=\"color: #C5C1B4\">[</span><strong></strong><strong></strong><span style=\"color: #C5C1B4\">[</span><strong>1</strong><strong>, </strong><strong>2</strong><strong></strong><span style=\"color: #C5C1B4\">]</span><strong>, </strong><strong></strong><strong></strong><span style=\"color: #C5C1B4\">[</span><strong>1</strong><strong>, </strong><strong>2</strong><strong></strong><span style=\"color: #C5C1B4\">]</span><strong></strong><strong></strong><span style=\"color: #C5C1B4\">]</span><strong></strong><strong></strong><span style=\"color: #C5C1B4\">]</span><strong></strong><strong></strong><span style=\"color: #C5C1B4\">]</span><strong>, </strong><strong></strong><strong></strong><span style=\"color: #C5C1B4\">[</span><strong></strong><strong></strong><span style=\"color: #C5C1B4\">[</span><strong></strong><strong></strong><span style=\"color: #C5C1B4\">[</span><strong></strong><strong></strong><span style=\"color: #C5C1B4\">[</span><strong>1</strong><strong>, </strong><strong>2</strong><strong></strong><span style=\"color: #C5C1B4\">]</span><strong>, </strong><strong></strong><strong></strong><span style=\"color: #C5C1B4\">[</span><strong>1</strong><strong>, </strong><strong>2</strong><strong></strong><span style=\"color: #C5C1B4\">]</span><strong></strong><strong></strong><span style=\"color: #C5C1B4\">]</span><strong>, </strong><strong></strong><strong></strong><span style=\"color: #C5C1B4\">[</span><strong></strong><strong></strong><span style=\"color: #C5C1B4\">[</span><strong>1</strong><strong>, </strong><strong>2</strong><strong></strong><span style=\"color: #C5C1B4\">]</span><strong>, </strong><strong></strong><strong></strong><span style=\"color: #C5C1B4\">[</span><strong>1</strong><strong>, </strong><strong>2</strong><strong></strong><span style=\"color: #C5C1B4\">]</span><strong></strong><strong></strong><span style=\"color: #C5C1B4\">]</span><strong></strong><strong></strong><span style=\"color: #C5C1B4\">]</span><strong>, </strong><strong></strong><strong></strong><span style=\"color: #C5C1B4\">[</span><strong></strong><strong></strong><span style=\"color: #C5C1B4\">[</span><strong></strong><strong></strong><span style=\"color: #C5C1B4\">[</span><strong>1</strong><strong>, </strong><strong>2</strong><strong></strong><span style=\"color: #C5C1B4\">]</span><strong>, </strong><strong></strong><strong></strong><span style=\"color: #C5C1B4\">[</span><strong>1</strong><strong>, </strong><strong>2</strong><strong></strong><span style=\"color: #C5C1B4\">]</span><strong></strong><strong></strong><span style=\"color: #C5C1B4\">]</span><strong>, </strong><strong></strong><strong></strong><span style=\"color: #C5C1B4\">[</span><strong></strong><strong></strong><span style=\"color: #C5C1B4\">[</span><strong>1</strong><strong>, </strong><strong>2</strong><strong></strong><span style=\"color: #C5C1B4\">]</span><strong>, </strong><strong></strong><strong></strong><span style=\"color: #C5C1B4\">[</span><strong>1</strong><strong>, </strong><strong>2</strong><strong></strong><span style=\"color: #C5C1B4\">]</span><strong></strong><strong></strong><span style=\"color: #C5C1B4\">]</span><strong></strong><strong></strong><span style=\"color: #C5C1B4\">]</span><strong></strong><strong></strong><span style=\"color: #C5C1B4\">]</span><strong></strong><strong></strong><span style=\"color: #C5C1B4\">]</span><strong>, </strong><strong></strong>\n",
       "<strong></strong><strong>  </strong><span style=\"color: #C5C1B4\">[</span><strong></strong><strong></strong><span style=\"color: #C5C1B4\">[</span><strong></strong><strong></strong><span style=\"color: #C5C1B4\">[</span><strong></strong><strong></strong><span style=\"color: #C5C1B4\">[</span><strong></strong><strong></strong><span style=\"color: #C5C1B4\">[</span><strong>1</strong><strong>, </strong><strong>2</strong><strong></strong><span style=\"color: #C5C1B4\">]</span><strong>, </strong><strong></strong><strong></strong><span style=\"color: #C5C1B4\">[</span><strong>1</strong><strong>, </strong><strong>2</strong><strong></strong><span style=\"color: #C5C1B4\">]</span><strong></strong><strong></strong><span style=\"color: #C5C1B4\">]</span><strong>, </strong><strong></strong><strong></strong><span style=\"color: #C5C1B4\">[</span><strong></strong><strong></strong><span style=\"color: #C5C1B4\">[</span><strong>1</strong><strong>, </strong><strong>2</strong><strong></strong><span style=\"color: #C5C1B4\">]</span><strong>, </strong><strong></strong><strong></strong><span style=\"color: #C5C1B4\">[</span><strong>1</strong><strong>, </strong><strong>2</strong><strong></strong><span style=\"color: #C5C1B4\">]</span><strong></strong><strong></strong><span style=\"color: #C5C1B4\">]</span><strong></strong><strong></strong><span style=\"color: #C5C1B4\">]</span><strong>, </strong><strong></strong><strong></strong><span style=\"color: #C5C1B4\">[</span><strong></strong><strong></strong><span style=\"color: #C5C1B4\">[</span><strong></strong><strong></strong><span style=\"color: #C5C1B4\">[</span><strong>1</strong><strong>, </strong><strong>2</strong><strong></strong><span style=\"color: #C5C1B4\">]</span><strong>, </strong><strong></strong><strong></strong><span style=\"color: #C5C1B4\">[</span><strong>1</strong><strong>, </strong><strong>2</strong><strong></strong><span style=\"color: #C5C1B4\">]</span><strong></strong><strong></strong><span style=\"color: #C5C1B4\">]</span><strong>, </strong><strong></strong><strong></strong><span style=\"color: #C5C1B4\">[</span><strong></strong><strong></strong><span style=\"color: #C5C1B4\">[</span><strong>1</strong><strong>, </strong><strong>2</strong><strong></strong><span style=\"color: #C5C1B4\">]</span><strong>, </strong><strong></strong><strong></strong><span style=\"color: #C5C1B4\">[</span><strong>1</strong><strong>, </strong><strong>2</strong><strong></strong><span style=\"color: #C5C1B4\">]</span><strong></strong><strong></strong><span style=\"color: #C5C1B4\">]</span><strong></strong><strong></strong><span style=\"color: #C5C1B4\">]</span><strong></strong><strong></strong><span style=\"color: #C5C1B4\">]</span><strong>, </strong><strong></strong><strong></strong><span style=\"color: #C5C1B4\">[</span><strong></strong><strong></strong><span style=\"color: #C5C1B4\">[</span><strong></strong><strong></strong><span style=\"color: #C5C1B4\">[</span><strong></strong><strong></strong><span style=\"color: #C5C1B4\">[</span><strong>1</strong><strong>, </strong><strong>2</strong><strong></strong><span style=\"color: #C5C1B4\">]</span><strong>, </strong><strong></strong><strong></strong><span style=\"color: #C5C1B4\">[</span><strong>1</strong><strong>, </strong><strong>2</strong><strong></strong><span style=\"color: #C5C1B4\">]</span><strong></strong><strong></strong><span style=\"color: #C5C1B4\">]</span><strong>, </strong><strong></strong><strong></strong><span style=\"color: #C5C1B4\">[</span><strong></strong><strong></strong><span style=\"color: #C5C1B4\">[</span><strong>1</strong><strong>, </strong><strong>2</strong><strong></strong><span style=\"color: #C5C1B4\">]</span><strong>, </strong><strong></strong><strong></strong><span style=\"color: #C5C1B4\">[</span><strong>1</strong><strong>, </strong><strong>2</strong><strong></strong><span style=\"color: #C5C1B4\">]</span><strong></strong><strong></strong><span style=\"color: #C5C1B4\">]</span><strong></strong><strong></strong><span style=\"color: #C5C1B4\">]</span><strong>, </strong><strong></strong><strong></strong><span style=\"color: #C5C1B4\">[</span><strong></strong><strong></strong><span style=\"color: #C5C1B4\">[</span><strong></strong><strong></strong><span style=\"color: #C5C1B4\">[</span><strong>1</strong><strong>, </strong><strong>2</strong><strong></strong><span style=\"color: #C5C1B4\">]</span><strong>, </strong><strong></strong><strong></strong><span style=\"color: #C5C1B4\">[</span><strong>1</strong><strong>, </strong><strong>2</strong><strong></strong><span style=\"color: #C5C1B4\">]</span><strong></strong><strong></strong><span style=\"color: #C5C1B4\">]</span><strong>, </strong><strong></strong><strong></strong><span style=\"color: #C5C1B4\">[</span><strong></strong><strong></strong><span style=\"color: #C5C1B4\">[</span><strong>1</strong><strong>, </strong><strong>2</strong><strong></strong><span style=\"color: #C5C1B4\">]</span><strong>, </strong><strong></strong><strong></strong><span style=\"color: #C5C1B4\">[</span><strong>1</strong><strong>, </strong><strong>2</strong><strong></strong><span style=\"color: #C5C1B4\">]</span><strong></strong><strong></strong><span style=\"color: #C5C1B4\">]</span><strong></strong><strong></strong><span style=\"color: #C5C1B4\">]</span><strong></strong><strong></strong><span style=\"color: #C5C1B4\">]</span><strong></strong><strong></strong><span style=\"color: #C5C1B4\">]</span><strong></strong>\n",
       "<strong></strong><strong> </strong><span style=\"color: #C5C1B4\">]</span><strong>, </strong><strong></strong>\n",
       "<strong></strong><strong> </strong><span style=\"color: #C5C1B4\">[</span><strong></strong>\n",
       "<strong></strong><strong>  </strong><span style=\"color: #C5C1B4\">[</span><strong></strong><strong></strong><span style=\"color: #C5C1B4\">[</span><strong></strong><strong></strong><span style=\"color: #C5C1B4\">[</span><strong></strong><strong></strong><span style=\"color: #C5C1B4\">[</span><strong></strong><strong></strong><span style=\"color: #C5C1B4\">[</span><strong>1</strong><strong>, </strong><strong>2</strong><strong></strong><span style=\"color: #C5C1B4\">]</span><strong>, </strong><strong></strong><strong></strong><span style=\"color: #C5C1B4\">[</span><strong>1</strong><strong>, </strong><strong>2</strong><strong></strong><span style=\"color: #C5C1B4\">]</span><strong></strong><strong></strong><span style=\"color: #C5C1B4\">]</span><strong>, </strong><strong></strong><strong></strong><span style=\"color: #C5C1B4\">[</span><strong></strong><strong></strong><span style=\"color: #C5C1B4\">[</span><strong>1</strong><strong>, </strong><strong>2</strong><strong></strong><span style=\"color: #C5C1B4\">]</span><strong>, </strong><strong></strong><strong></strong><span style=\"color: #C5C1B4\">[</span><strong>1</strong><strong>, </strong><strong>2</strong><strong></strong><span style=\"color: #C5C1B4\">]</span><strong></strong><strong></strong><span style=\"color: #C5C1B4\">]</span><strong></strong><strong></strong><span style=\"color: #C5C1B4\">]</span><strong>, </strong><strong></strong><strong></strong><span style=\"color: #C5C1B4\">[</span><strong></strong><strong></strong><span style=\"color: #C5C1B4\">[</span><strong></strong><strong></strong><span style=\"color: #C5C1B4\">[</span><strong>1</strong><strong>, </strong><strong>2</strong><strong></strong><span style=\"color: #C5C1B4\">]</span><strong>, </strong><strong></strong><strong></strong><span style=\"color: #C5C1B4\">[</span><strong>1</strong><strong>, </strong><strong>2</strong><strong></strong><span style=\"color: #C5C1B4\">]</span><strong></strong><strong></strong><span style=\"color: #C5C1B4\">]</span><strong>, </strong><strong></strong><strong></strong><span style=\"color: #C5C1B4\">[</span><strong></strong><strong></strong><span style=\"color: #C5C1B4\">[</span><strong>1</strong><strong>, </strong><strong>2</strong><strong></strong><span style=\"color: #C5C1B4\">]</span><strong>, </strong><strong></strong><strong></strong><span style=\"color: #C5C1B4\">[</span><strong>1</strong><strong>, </strong><strong>2</strong><strong></strong><span style=\"color: #C5C1B4\">]</span><strong></strong><strong></strong><span style=\"color: #C5C1B4\">]</span><strong></strong><strong></strong><span style=\"color: #C5C1B4\">]</span><strong></strong><strong></strong><span style=\"color: #C5C1B4\">]</span><strong>, </strong><strong></strong><strong></strong><span style=\"color: #C5C1B4\">[</span><strong></strong><strong></strong><span style=\"color: #C5C1B4\">[</span><strong></strong><strong></strong><span style=\"color: #C5C1B4\">[</span><strong></strong><strong></strong><span style=\"color: #C5C1B4\">[</span><strong>1</strong><strong>, </strong><strong>2</strong><strong></strong><span style=\"color: #C5C1B4\">]</span><strong>, </strong><strong></strong><strong></strong><span style=\"color: #C5C1B4\">[</span><strong>1</strong><strong>, </strong><strong>2</strong><strong></strong><span style=\"color: #C5C1B4\">]</span><strong></strong><strong></strong><span style=\"color: #C5C1B4\">]</span><strong>, </strong><strong></strong><strong></strong><span style=\"color: #C5C1B4\">[</span><strong></strong><strong></strong><span style=\"color: #C5C1B4\">[</span><strong>1</strong><strong>, </strong><strong>2</strong><strong></strong><span style=\"color: #C5C1B4\">]</span><strong>, </strong><strong></strong><strong></strong><span style=\"color: #C5C1B4\">[</span><strong>1</strong><strong>, </strong><strong>2</strong><strong></strong><span style=\"color: #C5C1B4\">]</span><strong></strong><strong></strong><span style=\"color: #C5C1B4\">]</span><strong></strong><strong></strong><span style=\"color: #C5C1B4\">]</span><strong>, </strong><strong></strong><strong></strong><span style=\"color: #C5C1B4\">[</span><strong></strong><strong></strong><span style=\"color: #C5C1B4\">[</span><strong></strong><strong></strong><span style=\"color: #C5C1B4\">[</span><strong>1</strong><strong>, </strong><strong>2</strong><strong></strong><span style=\"color: #C5C1B4\">]</span><strong>, </strong><strong></strong><strong></strong><span style=\"color: #C5C1B4\">[</span><strong>1</strong><strong>, </strong><strong>2</strong><strong></strong><span style=\"color: #C5C1B4\">]</span><strong></strong><strong></strong><span style=\"color: #C5C1B4\">]</span><strong>, </strong><strong></strong><strong></strong><span style=\"color: #C5C1B4\">[</span><strong></strong><strong></strong><span style=\"color: #C5C1B4\">[</span><strong>1</strong><strong>, </strong><strong>2</strong><strong></strong><span style=\"color: #C5C1B4\">]</span><strong>, </strong><strong></strong><strong></strong><span style=\"color: #C5C1B4\">[</span><strong>1</strong><strong>, </strong><strong>2</strong><strong></strong><span style=\"color: #C5C1B4\">]</span><strong></strong><strong></strong><span style=\"color: #C5C1B4\">]</span><strong></strong><strong></strong><span style=\"color: #C5C1B4\">]</span><strong></strong><strong></strong><span style=\"color: #C5C1B4\">]</span><strong></strong><strong></strong><span style=\"color: #C5C1B4\">]</span><strong>, </strong><strong></strong>\n",
       "<strong></strong><strong>  </strong><span style=\"color: #C5C1B4\">[</span><strong></strong><strong></strong><span style=\"color: #C5C1B4\">[</span><strong></strong><strong></strong><span style=\"color: #C5C1B4\">[</span><strong></strong><strong></strong><span style=\"color: #C5C1B4\">[</span><strong></strong><strong></strong><span style=\"color: #C5C1B4\">[</span><strong>1</strong><strong>, </strong><strong>2</strong><strong></strong><span style=\"color: #C5C1B4\">]</span><strong>, </strong><strong></strong><strong></strong><span style=\"color: #C5C1B4\">[</span><strong>1</strong><strong>, </strong><strong>2</strong><strong></strong><span style=\"color: #C5C1B4\">]</span><strong></strong><strong></strong><span style=\"color: #C5C1B4\">]</span><strong>, </strong><strong></strong><strong></strong><span style=\"color: #C5C1B4\">[</span><strong></strong><strong></strong><span style=\"color: #C5C1B4\">[</span><strong>1</strong><strong>, </strong><strong>2</strong><strong></strong><span style=\"color: #C5C1B4\">]</span><strong>, </strong><strong></strong><strong></strong><span style=\"color: #C5C1B4\">[</span><strong>1</strong><strong>, </strong><strong>2</strong><strong></strong><span style=\"color: #C5C1B4\">]</span><strong></strong><strong></strong><span style=\"color: #C5C1B4\">]</span><strong></strong><strong></strong><span style=\"color: #C5C1B4\">]</span><strong>, </strong><strong></strong><strong></strong><span style=\"color: #C5C1B4\">[</span><strong></strong><strong></strong><span style=\"color: #C5C1B4\">[</span><strong></strong><strong></strong><span style=\"color: #C5C1B4\">[</span><strong>1</strong><strong>, </strong><strong>2</strong><strong></strong><span style=\"color: #C5C1B4\">]</span><strong>, </strong><strong></strong><strong></strong><span style=\"color: #C5C1B4\">[</span><strong>1</strong><strong>, </strong><strong>2</strong><strong></strong><span style=\"color: #C5C1B4\">]</span><strong></strong><strong></strong><span style=\"color: #C5C1B4\">]</span><strong>, </strong><strong></strong><strong></strong><span style=\"color: #C5C1B4\">[</span><strong></strong><strong></strong><span style=\"color: #C5C1B4\">[</span><strong>1</strong><strong>, </strong><strong>2</strong><strong></strong><span style=\"color: #C5C1B4\">]</span><strong>, </strong><strong></strong><strong></strong><span style=\"color: #C5C1B4\">[</span><strong>1</strong><strong>, </strong><strong>2</strong><strong></strong><span style=\"color: #C5C1B4\">]</span><strong></strong><strong></strong><span style=\"color: #C5C1B4\">]</span><strong></strong><strong></strong><span style=\"color: #C5C1B4\">]</span><strong></strong><strong></strong><span style=\"color: #C5C1B4\">]</span><strong>, </strong><strong></strong><strong></strong><span style=\"color: #C5C1B4\">[</span><strong></strong><strong></strong><span style=\"color: #C5C1B4\">[</span><strong></strong><strong></strong><span style=\"color: #C5C1B4\">[</span><strong></strong><strong></strong><span style=\"color: #C5C1B4\">[</span><strong>1</strong><strong>, </strong><strong>2</strong><strong></strong><span style=\"color: #C5C1B4\">]</span><strong>, </strong><strong></strong><strong></strong><span style=\"color: #C5C1B4\">[</span><strong>1</strong><strong>, </strong><strong>2</strong><strong></strong><span style=\"color: #C5C1B4\">]</span><strong></strong><strong></strong><span style=\"color: #C5C1B4\">]</span><strong>, </strong><strong></strong><strong></strong><span style=\"color: #C5C1B4\">[</span><strong></strong><strong></strong><span style=\"color: #C5C1B4\">[</span><strong>1</strong><strong>, </strong><strong>2</strong><strong></strong><span style=\"color: #C5C1B4\">]</span><strong>, </strong><strong></strong><strong></strong><span style=\"color: #C5C1B4\">[</span><strong>1</strong><strong>, </strong><strong>2</strong><strong></strong><span style=\"color: #C5C1B4\">]</span><strong></strong><strong></strong><span style=\"color: #C5C1B4\">]</span><strong></strong><strong></strong><span style=\"color: #C5C1B4\">]</span><strong>, </strong><strong></strong><strong></strong><span style=\"color: #C5C1B4\">[</span><strong></strong><strong></strong><span style=\"color: #C5C1B4\">[</span><strong></strong><strong></strong><span style=\"color: #C5C1B4\">[</span><strong>1</strong><strong>, </strong><strong>2</strong><strong></strong><span style=\"color: #C5C1B4\">]</span><strong>, </strong><strong></strong><strong></strong><span style=\"color: #C5C1B4\">[</span><strong>1</strong><strong>, </strong><strong>2</strong><strong></strong><span style=\"color: #C5C1B4\">]</span><strong></strong><strong></strong><span style=\"color: #C5C1B4\">]</span><strong>, </strong><strong></strong><strong></strong><span style=\"color: #C5C1B4\">[</span><strong></strong><strong></strong><span style=\"color: #C5C1B4\">[</span><strong>1</strong><strong>, </strong><strong>2</strong><strong></strong><span style=\"color: #C5C1B4\">]</span><strong>, </strong><strong></strong><strong></strong><span style=\"color: #C5C1B4\">[</span><strong>1</strong><strong>, </strong><strong>2</strong><strong></strong><span style=\"color: #C5C1B4\">]</span><strong></strong><strong></strong><span style=\"color: #C5C1B4\">]</span><strong></strong><strong></strong><span style=\"color: #C5C1B4\">]</span><strong></strong><strong></strong><span style=\"color: #C5C1B4\">]</span><strong></strong><strong></strong><span style=\"color: #C5C1B4\">]</span><strong></strong>\n",
       "<strong></strong><strong> </strong><span style=\"color: #C5C1B4\">]</span><strong></strong>\n",
       "<strong></strong><strong></strong><span style=\"color: #C5C1B4\">]</span></pre>"
      ],
      "text/plain": [
       "<IPython.core.display.HTML object>"
      ]
     },
     "metadata": {},
     "output_type": "display_data"
    }
   ],
   "source": [
    "a = [1,2]\n",
    "for i in range(6):\n",
    "    a = [a, a]\n",
    "inspect(np.array(a))"
   ]
  },
  {
   "cell_type": "code",
   "execution_count": null,
   "metadata": {
    "pycharm": {
     "name": "#%%\n"
    }
   },
   "outputs": [],
   "source": []
  }
 ],
 "metadata": {
  "kernelspec": {
   "display_name": "dl3",
   "language": "python",
   "name": "dl3"
  },
  "language_info": {
   "codemirror_mode": {
    "name": "ipython",
    "version": 3
   },
   "file_extension": ".py",
   "mimetype": "text/x-python",
   "name": "python",
   "nbconvert_exporter": "python",
   "pygments_lexer": "ipython3",
   "version": "3.7.5"
  }
 },
 "nbformat": 4,
 "nbformat_minor": 2
}