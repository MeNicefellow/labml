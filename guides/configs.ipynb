{
 "cells": [
  {
   "cell_type": "markdown",
   "metadata": {},
   "source": [
    "# Configs\n",
    "\n",
    "[![Github](https://img.shields.io/github/stars/lab-ml/labml?style=social)](https://github.com/lab-ml/labml)\n",
    "[![Open In Colab](https://colab.research.google.com/assets/colab-badge.svg)](https://colab.research.google.com/github/lab-ml/labml/blob/master/guides/configs.ipynb)\n",
    "[![Docs](https://img.shields.io/badge/labml-docs-blue)](https://docs.labml.ai/api/configs.html)"
   ]
  },
  {
   "cell_type": "markdown",
   "metadata": {},
   "source": [
    "The configurations provide an API to easily manage hyper-parameters\n",
    "and other configurable parameters of the experiments.\n",
    "The configuration of each experiment run are stored.\n",
    "These can be viewed on [the web app](https://github.com/labmlai/labml/tree/master/app)."
   ]
  },
  {
   "cell_type": "code",
   "execution_count": null,
   "metadata": {},
   "outputs": [],
   "source": [
    "!pip install labml --quiet"
   ]
  },
  {
   "cell_type": "code",
   "execution_count": null,
   "metadata": {},
   "outputs": [],
   "source": [
    "import torch\n",
    "from torch import nn\n",
    "\n",
    "from labml import tracker, monit, experiment, logger\n",
    "from labml.configs import BaseConfigs, option, calculate, hyperparams, aggregate"
   ]
  },
  {
   "cell_type": "markdown",
   "metadata": {},
   "source": [
    "#### Define a configuration class"
   ]
  },
  {
   "cell_type": "code",
   "execution_count": null,
   "metadata": {},
   "outputs": [],
   "source": [
    "class TransformerConfigs(BaseConfigs):\n",
    "    d_model: int = 512\n",
    "    d_ff: int = 2048\n",
    "    attention: nn.Module = 'MultiHead'\n",
    "    ffn: nn.Module = 'MLP'\n",
    "    ffn_activation: nn.Module = 'ReLU'"
   ]
  },
  {
   "cell_type": "markdown",
   "metadata": {},
   "source": [
    "Use of type hinting is optional."
   ]
  },
  {
   "cell_type": "markdown",
   "metadata": {},
   "source": [
    "#### Calculated configurations\n",
    "\n",
    "You can specify multiple config calculator functions.\n",
    "You pick which one to use by its name."
   ]
  },
  {
   "cell_type": "code",
   "execution_count": null,
   "metadata": {},
   "outputs": [],
   "source": [
    "@option(TransformerConfigs.ffn_activation)\n",
    "def ReLU(c: TransformerConfigs):\n",
    "    return nn.ReLU()\n",
    "\n",
    "@option(TransformerConfigs.ffn_activation)\n",
    "def GELU(c: TransformerConfigs):\n",
    "    return nn.GELU()"
   ]
  },
  {
   "cell_type": "markdown",
   "metadata": {},
   "source": [
    "#### Inheriting and re-using configuration classes\n",
    "\n",
    "Configs classes can be inherited. This lets you separate configs into modules instead of passing [monolithic config object](https://www.reddit.com/r/MachineLearning/comments/g1vku4/d_antipatterns_in_open_sourced_ml_research_code/).\n",
    "\n",
    "You can even inherit a entire experiment setups and make a few modifications."
   ]
  },
  {
   "cell_type": "code",
   "execution_count": null,
   "metadata": {},
   "outputs": [],
   "source": [
    "class MyTransformerConfigs(TransformerConfigs):\n",
    "    positional_embeddings: nn.Module = 'Rotary'\n",
    "    ffn_activation: nn.Module = 'GELU'"
   ]
  },
  {
   "cell_type": "markdown",
   "metadata": {},
   "source": [
    "#### Submodules\n",
    "\n",
    "Configurations can be nested."
   ]
  },
  {
   "cell_type": "code",
   "execution_count": null,
   "metadata": {},
   "outputs": [],
   "source": [
    "class Configs(BaseConfigs):\n",
    "    transformer: TransformerConfigs = 'rotary_transformer'\n",
    "    \n",
    "    total_steps: int\n",
    "    epochs: int\n",
    "    steps_per_epoch: int\n",
    "    \n",
    "    tokenizer: any\n",
    "    dataset: any\n",
    "    \n",
    "    task: any\n",
    "    \n",
    "@option(Configs.transformer, 'rotary_transformer')\n",
    "def rotary_transformer_configs(c: Configs):\n",
    "    conf = MyTransformerConfigs()\n",
    "    \n",
    "    conf.d_model = 256\n",
    "    \n",
    "    return conf"
   ]
  },
  {
   "cell_type": "markdown",
   "metadata": {},
   "source": [
    "*It will initialize to default (based on type hint) if no options are provided.*"
   ]
  },
  {
   "cell_type": "markdown",
   "metadata": {},
   "source": [
    "### Advanced Usage"
   ]
  },
  {
   "cell_type": "markdown",
   "metadata": {},
   "source": [
    "#### Calculating with predefined functions or lambdas\n",
    "\n",
    "You can also compute configs with `lambda` functions or predefined functions"
   ]
  },
  {
   "cell_type": "code",
   "execution_count": null,
   "metadata": {},
   "outputs": [],
   "source": [
    "_ = calculate(Configs.total_steps, \n",
    "          [Configs.epochs, Configs.steps_per_epoch], # args\n",
    "          lambda e, s: e * s)"
   ]
  },
  {
   "cell_type": "markdown",
   "metadata": {},
   "source": [
    "#### Aggregates\n",
    "\n",
    "You can use aggregates to setup configs that depend on each other.\n",
    "\n",
    "For example, we change `dataset` and `epochs` based on the `task`."
   ]
  },
  {
   "cell_type": "code",
   "execution_count": null,
   "metadata": {},
   "outputs": [],
   "source": [
    "aggregate(Configs.task, 'wiki', (Configs.dataset, 'wikipedia'), (Configs.epochs, 10))\n",
    "aggregate(Configs.task, 'arxiv', (Configs.dataset, 'arxiv'), (Configs.epochs, 100))"
   ]
  },
  {
   "cell_type": "markdown",
   "metadata": {},
   "source": [
    "#### Hyper-parameters\n",
    "\n",
    "labml will identify any parameter you modify outside the declaration\n",
    "of the class as hyper-parameters.\n",
    "You can also specify hyper-parameters manually.\n",
    "\n",
    "The hyper-parameters will be highlighted among other configs in logs and in [the web app](https://github.com/labmlai/labml/tree/master/app).\n",
    "\n",
    "These will also be logged in to Tensorboard."
   ]
  },
  {
   "cell_type": "code",
   "execution_count": null,
   "metadata": {},
   "outputs": [],
   "source": [
    "hyperparams(Configs.epochs)\n",
    "hyperparams(Configs.total_steps, is_hyperparam=False)"
   ]
  },
  {
   "cell_type": "markdown",
   "metadata": {},
   "source": [
    "#### Running the experiment\n",
    "\n",
    "Here's how you run an experiment with the configurations."
   ]
  },
  {
   "cell_type": "code",
   "execution_count": null,
   "metadata": {
    "scrolled": true
   },
   "outputs": [],
   "source": [
    "conf = Configs()\n",
    "conf.task = 'arxiv'\n",
    "experiment.create(name='test_configs')\n",
    "experiment.configs(conf)\n",
    "logger.inspect(model=conf.epochs)"
   ]
  },
  {
   "cell_type": "code",
   "execution_count": null,
   "metadata": {},
   "outputs": [],
   "source": [
    "experiment.start()"
   ]
  }
 ],
 "metadata": {
  "kernelspec": {
   "display_name": "Python 3 (ipykernel)",
   "language": "python",
   "name": "python3"
  },
  "language_info": {
   "codemirror_mode": {
    "name": "ipython",
    "version": 3
   },
   "file_extension": ".py",
   "mimetype": "text/x-python",
   "name": "python",
   "nbconvert_exporter": "python",
   "pygments_lexer": "ipython3",
   "version": "3.7.11"
  },
  "pycharm": {
   "stem_cell": {
    "cell_type": "raw",
    "metadata": {
     "collapsed": false
    },
    "source": []
   }
  }
 },
 "nbformat": 4,
 "nbformat_minor": 4
}
